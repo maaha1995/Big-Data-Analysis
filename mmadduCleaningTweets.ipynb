{
 "cells": [
  {
   "cell_type": "code",
   "execution_count": null,
   "metadata": {},
   "outputs": [],
   "source": [
    "## Mahalakshmi Padma Sri Harsha Maddu - mmaddu - 50246769\n",
    "## Parikshit Sunil Deshmukh - pdeshmuk -  50247649"
   ]
  },
  {
   "cell_type": "code",
   "execution_count": 3,
   "metadata": {
    "scrolled": false
   },
   "outputs": [],
   "source": [
    "import re\n",
    "import pandas as pd\n",
    "from cStringIO import StringIO\n",
    "\n",
    "df = pd.read_csv(\"SpacexFinal.csv\")\n",
    "\n",
    "digits = [\"0\",\"1\",\"2\",\"3\",\"4\",\"5\",\"6\",\"7\",\"8\",\"9\"]\n",
    "sb = \"\"\n",
    "\n",
    "for i in range(len(df)):\n",
    "    sb = sb + ' '+ df.loc[i, 'text'] \n",
    "\n",
    "URLless_string = re.sub(r'\\w+:\\/{2}[\\d\\w-]+(\\.[\\d\\w-]+)*(?:(?:\\/[^\\s/]*))*', '', sb)\n",
    "\n",
    "cleanString = re.sub(r\"[^a-zA-Z]+\", ' ', URLless_string)\n",
    "cleanString = ' '.join([w for w in cleanString.split() if len(w)>1])\n",
    "cleanString = cleanString.lower()\n",
    "\n",
    "\n",
    "with open(\"SpacexTweets.txt\", \"w\") as text_file:\n",
    "    text_file.write(\"%s\" % cleanString)\n"
   ]
  },
  {
   "cell_type": "code",
   "execution_count": 4,
   "metadata": {},
   "outputs": [],
   "source": [
    "import re\n",
    "import pandas as pd\n",
    "from cStringIO import StringIO\n",
    "\n",
    "df = pd.read_csv(\"ElonMuskFinal.csv\")\n",
    "\n",
    "digits = [\"0\",\"1\",\"2\",\"3\",\"4\",\"5\",\"6\",\"7\",\"8\",\"9\"]\n",
    "sb = \"\"\n",
    "\n",
    "for i in range(len(df)):\n",
    "    sb = sb + ' '+ df.loc[i, 'text'] \n",
    "\n",
    "URLless_string = re.sub(r'\\w+:\\/{2}[\\d\\w-]+(\\.[\\d\\w-]+)*(?:(?:\\/[^\\s/]*))*', '', sb)\n",
    "\n",
    "cleanString = re.sub(r\"[^a-zA-Z]+\", ' ', URLless_string)\n",
    "cleanString = ' '.join([w for w in cleanString.split() if len(w)>1])\n",
    "cleanString = cleanString.lower()\n",
    "\n",
    "\n",
    "with open(\"ElonMuskTweets.txt\", \"w\") as text_file:\n",
    "    text_file.write(\"%s\" % cleanString)"
   ]
  },
  {
   "cell_type": "code",
   "execution_count": 5,
   "metadata": {},
   "outputs": [],
   "source": [
    "import re\n",
    "import pandas as pd\n",
    "from cStringIO import StringIO\n",
    "\n",
    "df = pd.read_csv(\"TeslaFinal.csv\")\n",
    "\n",
    "digits = [\"0\",\"1\",\"2\",\"3\",\"4\",\"5\",\"6\",\"7\",\"8\",\"9\"]\n",
    "sb = \"\"\n",
    "\n",
    "for i in range(len(df)):\n",
    "    sb = sb + ' '+ df.loc[i, 'text'] \n",
    "\n",
    "URLless_string = re.sub(r'\\w+:\\/{2}[\\d\\w-]+(\\.[\\d\\w-]+)*(?:(?:\\/[^\\s/]*))*', '', sb)\n",
    "\n",
    "cleanString = re.sub(r\"[^a-zA-Z]+\", ' ', URLless_string)\n",
    "cleanString = ' '.join([w for w in cleanString.split() if len(w)>1])\n",
    "cleanString = cleanString.lower()\n",
    "\n",
    "\n",
    "with open(\"TeslaTweets.txt\", \"w\") as text_file:\n",
    "    text_file.write(\"%s\" % cleanString)"
   ]
  },
  {
   "cell_type": "code",
   "execution_count": 6,
   "metadata": {},
   "outputs": [],
   "source": [
    "with open(\"FinalTweets.txt\", \"w\") as text_file:\n",
    "    text_file.write(\"nothing\")"
   ]
  },
  {
   "cell_type": "code",
   "execution_count": 1,
   "metadata": {},
   "outputs": [],
   "source": [
    "import re\n",
    "import pandas as pd\n",
    "from cStringIO import StringIO\n",
    "\n",
    "df = pd.read_csv(\"Spacex1Day.csv\")\n",
    "\n",
    "digits = [\"0\",\"1\",\"2\",\"3\",\"4\",\"5\",\"6\",\"7\",\"8\",\"9\"]\n",
    "sb = \"\"\n",
    "\n",
    "for i in range(len(df)):\n",
    "    sb = sb + ' '+ df.loc[i, 'text'] \n",
    "\n",
    "URLless_string = re.sub(r'\\w+:\\/{2}[\\d\\w-]+(\\.[\\d\\w-]+)*(?:(?:\\/[^\\s/]*))*', '', sb)\n",
    "\n",
    "cleanString = re.sub(r\"[^a-zA-Z]+\", ' ', URLless_string)\n",
    "cleanString = ' '.join([w for w in cleanString.split() if len(w)>1])\n",
    "cleanString = cleanString.lower()\n",
    "\n",
    "\n",
    "with open(\"Spacex1Day.txt\", \"w\") as text_file:\n",
    "    text_file.write(\"%s\" % cleanString)"
   ]
  },
  {
   "cell_type": "code",
   "execution_count": 2,
   "metadata": {},
   "outputs": [],
   "source": [
    "import re\n",
    "import pandas as pd\n",
    "from cStringIO import StringIO\n",
    "\n",
    "df = pd.read_csv(\"ElonMusk1Day.csv\")\n",
    "\n",
    "digits = [\"0\",\"1\",\"2\",\"3\",\"4\",\"5\",\"6\",\"7\",\"8\",\"9\"]\n",
    "sb = \"\"\n",
    "\n",
    "for i in range(len(df)):\n",
    "    sb = sb + ' '+ df.loc[i, 'text'] \n",
    "\n",
    "URLless_string = re.sub(r'\\w+:\\/{2}[\\d\\w-]+(\\.[\\d\\w-]+)*(?:(?:\\/[^\\s/]*))*', '', sb)\n",
    "\n",
    "cleanString = re.sub(r\"[^a-zA-Z]+\", ' ', URLless_string)\n",
    "cleanString = ' '.join([w for w in cleanString.split() if len(w)>1])\n",
    "cleanString = cleanString.lower()\n",
    "\n",
    "\n",
    "with open(\"ElonMusk1Day.txt\", \"w\") as text_file:\n",
    "    text_file.write(\"%s\" % cleanString)"
   ]
  },
  {
   "cell_type": "code",
   "execution_count": 3,
   "metadata": {},
   "outputs": [],
   "source": [
    "import re\n",
    "import pandas as pd\n",
    "from cStringIO import StringIO\n",
    "\n",
    "df = pd.read_csv(\"Tesla1Day.csv\")\n",
    "\n",
    "digits = [\"0\",\"1\",\"2\",\"3\",\"4\",\"5\",\"6\",\"7\",\"8\",\"9\"]\n",
    "sb = \"\"\n",
    "\n",
    "for i in range(len(df)):\n",
    "    sb = sb + ' '+ df.loc[i, 'text'] \n",
    "\n",
    "URLless_string = re.sub(r'\\w+:\\/{2}[\\d\\w-]+(\\.[\\d\\w-]+)*(?:(?:\\/[^\\s/]*))*', '', sb)\n",
    "\n",
    "cleanString = re.sub(r\"[^a-zA-Z]+\", ' ', URLless_string)\n",
    "cleanString = ' '.join([w for w in cleanString.split() if len(w)>1])\n",
    "cleanString = cleanString.lower()\n",
    "\n",
    "\n",
    "with open(\"Tesla1Day.txt\", \"w\") as text_file:\n",
    "    text_file.write(\"%s\" % cleanString)"
   ]
  },
  {
   "cell_type": "code",
   "execution_count": 4,
   "metadata": {},
   "outputs": [],
   "source": [
    "with open(\"FinalTweets1Day.txt\", \"w\") as text_file:\n",
    "    text_file.write(\"nothing\")"
   ]
  },
  {
   "cell_type": "code",
   "execution_count": null,
   "metadata": {},
   "outputs": [],
   "source": []
  }
 ],
 "metadata": {
  "kernelspec": {
   "display_name": "Python 2",
   "language": "python",
   "name": "python2"
  },
  "language_info": {
   "codemirror_mode": {
    "name": "ipython",
    "version": 2
   },
   "file_extension": ".py",
   "mimetype": "text/x-python",
   "name": "python",
   "nbconvert_exporter": "python",
   "pygments_lexer": "ipython2",
   "version": "2.7.14"
  }
 },
 "nbformat": 4,
 "nbformat_minor": 2
}
